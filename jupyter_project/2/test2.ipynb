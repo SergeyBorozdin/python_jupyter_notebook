{
 "cells": [
  {
   "cell_type": "markdown",
   "id": "a3d5ac2b-fea0-40a9-9ce6-af623dfe5802",
   "metadata": {},
   "source": [
    "Данные в датасете app_stats.csv понедельно, 52 недели. Получается год\n",
    "=\n",
    "\n",
    "- week_number - Номер недели\n",
    "- installs - Число пользователей, скачавших «Книжного грызуна»\n",
    "- payments - количество платежей\n",
    "- ad_campaign - Количество проведённых рекламных кампаний в каждую из недель"
   ]
  },
  {
   "cell_type": "markdown",
   "id": "21061329-6db2-444b-a31c-be3617809cc8",
   "metadata": {},
   "source": [
    "Что можно узнать на основе этих данных?\n",
    "=\n",
    "\n",
    "- Сколько всего пользователей у Книжного грызунаа\n",
    "- Общее количество установок за изучаемай период\n",
    "- Сколько денег заработало приоложение\n",
    "- Общее количество платежей за изучаемый период\n",
    "- Общую конверсию за изучаемый период: отношение суммарного числа платежей ко всему- становкам\n",
    "- Конверсия по неделям\n",
    "- Количество рекламных кампаний за иий чаемый период\n",
    "- Окупилась ли определённая рекламная кампания"
   ]
  },
  {
   "cell_type": "markdown",
   "id": "3bf4f31f-b539-4891-92d0-26980b5f5d07",
   "metadata": {},
   "source": [
    "Стоимость платной версии и рекламной компании\n",
    "-\n",
    "\n",
    "- 60 рублей за 1 установку\n",
    "- 600 рублей получаете за каждый переход на платную версию\n",
    "- Рекламная кампания окупится, если каждая «рекламная» установка в среднем принесёт не менее 60 рублей.\n",
    "- Такой результат будет, если как минимум каждый десятый скачавший приложение купит платную версию."
   ]
  },
  {
   "cell_type": "markdown",
   "id": "a67e96b1-2c9d-4b59-a2ff-b5f45d242aa7",
   "metadata": {},
   "source": [
    "Гипотеза\n",
    "-\n",
    "\n",
    "Теперь известно, что компания в среднем тратит 60 рублей, чтобы получить одну установку приложения. Если запустить рекламу в социальной сети и потратить на неё 60 тысяч рублей, «Книжный грызун» получит примерно 1000 установок. Часть пользователей, установивших приложение, переходят на платную подписку стоимостью 600 рублей.\r\n",
    "Маркетолог считает конверсию так: делит общее число платежей на общее количество установок. Если конверсия больше 10% — рекламные кампании окупились.\r\n",
    "Дополнительной проверкой может служить денежный результат. Чтобы узнать, сколько денег в среднем принесла «Книжному грызуну» каждая рекламная установка, полученную конверсию можно умножить на 600 рублей — размер одного платежа. Если результат окажется больше 60 рублей, заработанное точно превышает потраченноега."
   ]
  },
  {
   "cell_type": "code",
   "execution_count": 1,
   "id": "0e7ba2a7-2d3a-4102-a40d-82341dee039c",
   "metadata": {},
   "outputs": [
    {
     "data": {
      "text/html": [
       "<div>\n",
       "<style scoped>\n",
       "    .dataframe tbody tr th:only-of-type {\n",
       "        vertical-align: middle;\n",
       "    }\n",
       "\n",
       "    .dataframe tbody tr th {\n",
       "        vertical-align: top;\n",
       "    }\n",
       "\n",
       "    .dataframe thead th {\n",
       "        text-align: right;\n",
       "    }\n",
       "</style>\n",
       "<table border=\"1\" class=\"dataframe\">\n",
       "  <thead>\n",
       "    <tr style=\"text-align: right;\">\n",
       "      <th></th>\n",
       "      <th>week_number</th>\n",
       "      <th>installs</th>\n",
       "      <th>payments</th>\n",
       "      <th>ad_campaign</th>\n",
       "    </tr>\n",
       "  </thead>\n",
       "  <tbody>\n",
       "    <tr>\n",
       "      <th>0</th>\n",
       "      <td>0</td>\n",
       "      <td>29486</td>\n",
       "      <td>3541</td>\n",
       "      <td>0</td>\n",
       "    </tr>\n",
       "    <tr>\n",
       "      <th>1</th>\n",
       "      <td>1</td>\n",
       "      <td>30830</td>\n",
       "      <td>4275</td>\n",
       "      <td>0</td>\n",
       "    </tr>\n",
       "    <tr>\n",
       "      <th>2</th>\n",
       "      <td>2</td>\n",
       "      <td>31970</td>\n",
       "      <td>4404</td>\n",
       "      <td>0</td>\n",
       "    </tr>\n",
       "    <tr>\n",
       "      <th>3</th>\n",
       "      <td>3</td>\n",
       "      <td>34361</td>\n",
       "      <td>4463</td>\n",
       "      <td>0</td>\n",
       "    </tr>\n",
       "    <tr>\n",
       "      <th>4</th>\n",
       "      <td>4</td>\n",
       "      <td>33968</td>\n",
       "      <td>4358</td>\n",
       "      <td>0</td>\n",
       "    </tr>\n",
       "    <tr>\n",
       "      <th>5</th>\n",
       "      <td>5</td>\n",
       "      <td>34912</td>\n",
       "      <td>4310</td>\n",
       "      <td>0</td>\n",
       "    </tr>\n",
       "    <tr>\n",
       "      <th>6</th>\n",
       "      <td>6</td>\n",
       "      <td>35118</td>\n",
       "      <td>4427</td>\n",
       "      <td>0</td>\n",
       "    </tr>\n",
       "    <tr>\n",
       "      <th>7</th>\n",
       "      <td>7</td>\n",
       "      <td>49296</td>\n",
       "      <td>6836</td>\n",
       "      <td>1</td>\n",
       "    </tr>\n",
       "    <tr>\n",
       "      <th>8</th>\n",
       "      <td>8</td>\n",
       "      <td>35969</td>\n",
       "      <td>4366</td>\n",
       "      <td>0</td>\n",
       "    </tr>\n",
       "    <tr>\n",
       "      <th>9</th>\n",
       "      <td>9</td>\n",
       "      <td>50182</td>\n",
       "      <td>6426</td>\n",
       "      <td>1</td>\n",
       "    </tr>\n",
       "    <tr>\n",
       "      <th>10</th>\n",
       "      <td>10</td>\n",
       "      <td>37169</td>\n",
       "      <td>4774</td>\n",
       "      <td>0</td>\n",
       "    </tr>\n",
       "    <tr>\n",
       "      <th>11</th>\n",
       "      <td>11</td>\n",
       "      <td>36579</td>\n",
       "      <td>5082</td>\n",
       "      <td>0</td>\n",
       "    </tr>\n",
       "    <tr>\n",
       "      <th>12</th>\n",
       "      <td>12</td>\n",
       "      <td>38198</td>\n",
       "      <td>5025</td>\n",
       "      <td>0</td>\n",
       "    </tr>\n",
       "    <tr>\n",
       "      <th>13</th>\n",
       "      <td>13</td>\n",
       "      <td>55226</td>\n",
       "      <td>6420</td>\n",
       "      <td>1</td>\n",
       "    </tr>\n",
       "    <tr>\n",
       "      <th>14</th>\n",
       "      <td>14</td>\n",
       "      <td>38932</td>\n",
       "      <td>4804</td>\n",
       "      <td>0</td>\n",
       "    </tr>\n",
       "    <tr>\n",
       "      <th>15</th>\n",
       "      <td>15</td>\n",
       "      <td>51316</td>\n",
       "      <td>6299</td>\n",
       "      <td>1</td>\n",
       "    </tr>\n",
       "    <tr>\n",
       "      <th>16</th>\n",
       "      <td>16</td>\n",
       "      <td>38067</td>\n",
       "      <td>4884</td>\n",
       "      <td>0</td>\n",
       "    </tr>\n",
       "    <tr>\n",
       "      <th>17</th>\n",
       "      <td>17</td>\n",
       "      <td>57437</td>\n",
       "      <td>6146</td>\n",
       "      <td>1</td>\n",
       "    </tr>\n",
       "    <tr>\n",
       "      <th>18</th>\n",
       "      <td>18</td>\n",
       "      <td>39399</td>\n",
       "      <td>5084</td>\n",
       "      <td>0</td>\n",
       "    </tr>\n",
       "    <tr>\n",
       "      <th>19</th>\n",
       "      <td>19</td>\n",
       "      <td>53167</td>\n",
       "      <td>6276</td>\n",
       "      <td>1</td>\n",
       "    </tr>\n",
       "    <tr>\n",
       "      <th>20</th>\n",
       "      <td>20</td>\n",
       "      <td>40214</td>\n",
       "      <td>5185</td>\n",
       "      <td>0</td>\n",
       "    </tr>\n",
       "    <tr>\n",
       "      <th>21</th>\n",
       "      <td>21</td>\n",
       "      <td>40509</td>\n",
       "      <td>5168</td>\n",
       "      <td>0</td>\n",
       "    </tr>\n",
       "    <tr>\n",
       "      <th>22</th>\n",
       "      <td>22</td>\n",
       "      <td>39718</td>\n",
       "      <td>4933</td>\n",
       "      <td>0</td>\n",
       "    </tr>\n",
       "    <tr>\n",
       "      <th>23</th>\n",
       "      <td>23</td>\n",
       "      <td>40657</td>\n",
       "      <td>5451</td>\n",
       "      <td>0</td>\n",
       "    </tr>\n",
       "    <tr>\n",
       "      <th>24</th>\n",
       "      <td>24</td>\n",
       "      <td>39687</td>\n",
       "      <td>5032</td>\n",
       "      <td>0</td>\n",
       "    </tr>\n",
       "    <tr>\n",
       "      <th>25</th>\n",
       "      <td>25</td>\n",
       "      <td>41552</td>\n",
       "      <td>5228</td>\n",
       "      <td>0</td>\n",
       "    </tr>\n",
       "    <tr>\n",
       "      <th>26</th>\n",
       "      <td>26</td>\n",
       "      <td>39687</td>\n",
       "      <td>5379</td>\n",
       "      <td>0</td>\n",
       "    </tr>\n",
       "    <tr>\n",
       "      <th>27</th>\n",
       "      <td>27</td>\n",
       "      <td>40661</td>\n",
       "      <td>5226</td>\n",
       "      <td>0</td>\n",
       "    </tr>\n",
       "    <tr>\n",
       "      <th>28</th>\n",
       "      <td>28</td>\n",
       "      <td>40858</td>\n",
       "      <td>5090</td>\n",
       "      <td>0</td>\n",
       "    </tr>\n",
       "    <tr>\n",
       "      <th>29</th>\n",
       "      <td>29</td>\n",
       "      <td>52182</td>\n",
       "      <td>6960</td>\n",
       "      <td>1</td>\n",
       "    </tr>\n",
       "    <tr>\n",
       "      <th>30</th>\n",
       "      <td>30</td>\n",
       "      <td>42268</td>\n",
       "      <td>5447</td>\n",
       "      <td>0</td>\n",
       "    </tr>\n",
       "    <tr>\n",
       "      <th>31</th>\n",
       "      <td>31</td>\n",
       "      <td>55288</td>\n",
       "      <td>6190</td>\n",
       "      <td>1</td>\n",
       "    </tr>\n",
       "    <tr>\n",
       "      <th>32</th>\n",
       "      <td>32</td>\n",
       "      <td>41486</td>\n",
       "      <td>5189</td>\n",
       "      <td>0</td>\n",
       "    </tr>\n",
       "    <tr>\n",
       "      <th>33</th>\n",
       "      <td>33</td>\n",
       "      <td>61326</td>\n",
       "      <td>6396</td>\n",
       "      <td>1</td>\n",
       "    </tr>\n",
       "    <tr>\n",
       "      <th>34</th>\n",
       "      <td>34</td>\n",
       "      <td>40925</td>\n",
       "      <td>5375</td>\n",
       "      <td>0</td>\n",
       "    </tr>\n",
       "    <tr>\n",
       "      <th>35</th>\n",
       "      <td>35</td>\n",
       "      <td>41980</td>\n",
       "      <td>5711</td>\n",
       "      <td>0</td>\n",
       "    </tr>\n",
       "    <tr>\n",
       "      <th>36</th>\n",
       "      <td>36</td>\n",
       "      <td>42405</td>\n",
       "      <td>5486</td>\n",
       "      <td>0</td>\n",
       "    </tr>\n",
       "    <tr>\n",
       "      <th>37</th>\n",
       "      <td>37</td>\n",
       "      <td>41314</td>\n",
       "      <td>5582</td>\n",
       "      <td>0</td>\n",
       "    </tr>\n",
       "    <tr>\n",
       "      <th>38</th>\n",
       "      <td>38</td>\n",
       "      <td>42022</td>\n",
       "      <td>5696</td>\n",
       "      <td>0</td>\n",
       "    </tr>\n",
       "    <tr>\n",
       "      <th>39</th>\n",
       "      <td>39</td>\n",
       "      <td>41540</td>\n",
       "      <td>5326</td>\n",
       "      <td>0</td>\n",
       "    </tr>\n",
       "    <tr>\n",
       "      <th>40</th>\n",
       "      <td>40</td>\n",
       "      <td>42007</td>\n",
       "      <td>5635</td>\n",
       "      <td>0</td>\n",
       "    </tr>\n",
       "    <tr>\n",
       "      <th>41</th>\n",
       "      <td>41</td>\n",
       "      <td>42461</td>\n",
       "      <td>5218</td>\n",
       "      <td>0</td>\n",
       "    </tr>\n",
       "    <tr>\n",
       "      <th>42</th>\n",
       "      <td>42</td>\n",
       "      <td>42310</td>\n",
       "      <td>5212</td>\n",
       "      <td>0</td>\n",
       "    </tr>\n",
       "    <tr>\n",
       "      <th>43</th>\n",
       "      <td>43</td>\n",
       "      <td>42893</td>\n",
       "      <td>5710</td>\n",
       "      <td>0</td>\n",
       "    </tr>\n",
       "    <tr>\n",
       "      <th>44</th>\n",
       "      <td>44</td>\n",
       "      <td>42107</td>\n",
       "      <td>5726</td>\n",
       "      <td>0</td>\n",
       "    </tr>\n",
       "    <tr>\n",
       "      <th>45</th>\n",
       "      <td>45</td>\n",
       "      <td>57536</td>\n",
       "      <td>6933</td>\n",
       "      <td>1</td>\n",
       "    </tr>\n",
       "    <tr>\n",
       "      <th>46</th>\n",
       "      <td>46</td>\n",
       "      <td>42636</td>\n",
       "      <td>5463</td>\n",
       "      <td>0</td>\n",
       "    </tr>\n",
       "    <tr>\n",
       "      <th>47</th>\n",
       "      <td>47</td>\n",
       "      <td>42833</td>\n",
       "      <td>5657</td>\n",
       "      <td>0</td>\n",
       "    </tr>\n",
       "    <tr>\n",
       "      <th>48</th>\n",
       "      <td>48</td>\n",
       "      <td>43881</td>\n",
       "      <td>5742</td>\n",
       "      <td>0</td>\n",
       "    </tr>\n",
       "    <tr>\n",
       "      <th>49</th>\n",
       "      <td>49</td>\n",
       "      <td>43678</td>\n",
       "      <td>5199</td>\n",
       "      <td>0</td>\n",
       "    </tr>\n",
       "    <tr>\n",
       "      <th>50</th>\n",
       "      <td>50</td>\n",
       "      <td>44071</td>\n",
       "      <td>5325</td>\n",
       "      <td>0</td>\n",
       "    </tr>\n",
       "    <tr>\n",
       "      <th>51</th>\n",
       "      <td>51</td>\n",
       "      <td>43063</td>\n",
       "      <td>5217</td>\n",
       "      <td>0</td>\n",
       "    </tr>\n",
       "  </tbody>\n",
       "</table>\n",
       "</div>"
      ],
      "text/plain": [
       "    week_number  installs  payments  ad_campaign\n",
       "0             0     29486      3541            0\n",
       "1             1     30830      4275            0\n",
       "2             2     31970      4404            0\n",
       "3             3     34361      4463            0\n",
       "4             4     33968      4358            0\n",
       "5             5     34912      4310            0\n",
       "6             6     35118      4427            0\n",
       "7             7     49296      6836            1\n",
       "8             8     35969      4366            0\n",
       "9             9     50182      6426            1\n",
       "10           10     37169      4774            0\n",
       "11           11     36579      5082            0\n",
       "12           12     38198      5025            0\n",
       "13           13     55226      6420            1\n",
       "14           14     38932      4804            0\n",
       "15           15     51316      6299            1\n",
       "16           16     38067      4884            0\n",
       "17           17     57437      6146            1\n",
       "18           18     39399      5084            0\n",
       "19           19     53167      6276            1\n",
       "20           20     40214      5185            0\n",
       "21           21     40509      5168            0\n",
       "22           22     39718      4933            0\n",
       "23           23     40657      5451            0\n",
       "24           24     39687      5032            0\n",
       "25           25     41552      5228            0\n",
       "26           26     39687      5379            0\n",
       "27           27     40661      5226            0\n",
       "28           28     40858      5090            0\n",
       "29           29     52182      6960            1\n",
       "30           30     42268      5447            0\n",
       "31           31     55288      6190            1\n",
       "32           32     41486      5189            0\n",
       "33           33     61326      6396            1\n",
       "34           34     40925      5375            0\n",
       "35           35     41980      5711            0\n",
       "36           36     42405      5486            0\n",
       "37           37     41314      5582            0\n",
       "38           38     42022      5696            0\n",
       "39           39     41540      5326            0\n",
       "40           40     42007      5635            0\n",
       "41           41     42461      5218            0\n",
       "42           42     42310      5212            0\n",
       "43           43     42893      5710            0\n",
       "44           44     42107      5726            0\n",
       "45           45     57536      6933            1\n",
       "46           46     42636      5463            0\n",
       "47           47     42833      5657            0\n",
       "48           48     43881      5742            0\n",
       "49           49     43678      5199            0\n",
       "50           50     44071      5325            0\n",
       "51           51     43063      5217            0"
      ]
     },
     "execution_count": 1,
     "metadata": {},
     "output_type": "execute_result"
    }
   ],
   "source": [
    "# импортируйте библиотеку pandas\n",
    "import pandas as pd\n",
    "\n",
    "# прочитайте файл и сохраните его в переменной data\n",
    "pd.set_option('display.max_columns', None)\n",
    "pd.set_option('display.max_rows', None)\n",
    "data = pd.read_csv('app_stats.csv')\n",
    "\n",
    "# выведите data на экран\n",
    "data"
   ]
  },
  {
   "cell_type": "markdown",
   "id": "9526ad02-26ec-4957-9267-58c419348e9e",
   "metadata": {},
   "source": [
    "Посчитаем среднюю конверсию за год и доход от одной установки\n",
    "-"
   ]
  },
  {
   "cell_type": "code",
   "execution_count": 8,
   "id": "7cf42e4f-c8ad-4e99-912a-375bc39639db",
   "metadata": {},
   "outputs": [
    {
     "name": "stdout",
     "output_type": "stream",
     "text": [
      "\n",
      "Значение средней конверсии -  0.126526669919455\n",
      "В среднем приносит одна установка -  75.916001951673\n"
     ]
    }
   ],
   "source": [
    "average_conversion = sum(data['payments']) / sum(data['installs'])\n",
    "income_1installs = average_conversion * 600\n",
    "\n",
    "print('\\nЗначение средней конверсии - ', average_conversion)\n",
    "print('В среднем приносит одна установка - ', income_1installs)"
   ]
  },
  {
   "cell_type": "markdown",
   "id": "6680fd6e-9f61-4242-bae9-c8e820c25471",
   "metadata": {},
   "source": [
    "Выводы\n",
    "=\n",
    "\n",
    "- в среднем одна установка приложения приносит «Книжному грызуну» почти 76 рублей. Это на 16 рублей больше, чем стоимость рекламы, — значит, рекламные кампании окупаются. Но на самом деле не всё так просто.\n",
    "- Конверсия могла измениться. Например, год назад она была высокой, а теперь снизилась. Маркетолог считает среднюю конверсию, а не актуальную\n",
    "- Не факт, что «рекламные» пользователи будут так же охотно покупать платную версию, как это делают те, кто нашёл приложение самостоятельно"
   ]
  },
  {
   "cell_type": "markdown",
   "id": "49349869-ee11-402f-800e-6e98d69c3cde",
   "metadata": {},
   "source": [
    "Новая гипотеза\n",
    "=\n",
    "- Брать среднюю конверсию не совсем честно: конверсия могла меняться в течение года. Правильнее взять наиболее актуальную — результат может быть другим\n",
    "- Конверсия «рекламных» пользователей может сильно отличаться от обычной."
   ]
  },
  {
   "cell_type": "markdown",
   "id": "f2d10c8a-8b18-4d75-8056-c0d4ee965c4d",
   "metadata": {},
   "source": [
    "Посчитаем конверсию и средний доход от одной установки по каждой из последних восьми недель. Будем считать, что конверсия «старше» двух месяцев уже вряд ли актуальна. Для этого посмотрим последние 8 недель конверсии"
   ]
  },
  {
   "cell_type": "code",
   "execution_count": 10,
   "id": "3aed75fe-9558-47ca-8b15-70d27c39fede",
   "metadata": {},
   "outputs": [
    {
     "name": "stdout",
     "output_type": "stream",
     "text": [
      "44    0.135987\n",
      "45    0.120498\n",
      "46    0.128131\n",
      "47    0.132071\n",
      "48    0.130854\n",
      "49    0.119030\n",
      "50    0.120828\n",
      "51    0.121148\n",
      "dtype: float64\n"
     ]
    }
   ],
   "source": [
    "conversion = data['payments'] / data['installs']\n",
    "print(conversion.tail(8))"
   ]
  },
  {
   "cell_type": "markdown",
   "id": "afd11e75-83e1-4ac8-918d-2f0996340b79",
   "metadata": {},
   "source": [
    "Посмотрим средний доход от одной установки для каждой недели"
   ]
  },
  {
   "cell_type": "code",
   "execution_count": 11,
   "id": "dca71313-86e0-49b6-9c92-299797ad26f5",
   "metadata": {},
   "outputs": [
    {
     "name": "stdout",
     "output_type": "stream",
     "text": [
      "44    81.592134\n",
      "45    72.299082\n",
      "46    76.878694\n",
      "47    79.242640\n",
      "48    78.512340\n",
      "49    71.418105\n",
      "50    72.496653\n",
      "51    72.688851\n",
      "dtype: float64\n"
     ]
    }
   ],
   "source": [
    "print(conversion.tail(8) * 600)"
   ]
  },
  {
   "cell_type": "markdown",
   "id": "a49778b0-7e85-4982-95dc-ce4c92a75b49",
   "metadata": {},
   "source": [
    "Вывод\n",
    "=\n",
    "в каждую из последних восьми недель конверсия установок в покупки «Книжного грызуна» примерно одинакова и выше 10%, а средний доход от одной установки — больше 60 рублей"
   ]
  },
  {
   "cell_type": "markdown",
   "id": "c2aa3108-9bec-4d75-9a4d-c045b28472d8",
   "metadata": {},
   "source": [
    "Посстроим теловую карту и посмотрим на результаты"
   ]
  },
  {
   "cell_type": "code",
   "execution_count": 12,
   "id": "4389925c-f87c-43c9-aaf2-efc51da23391",
   "metadata": {},
   "outputs": [
    {
     "data": {
      "text/plain": [
       "<Axes: >"
      ]
     },
     "execution_count": 12,
     "metadata": {},
     "output_type": "execute_result"
    },
    {
     "data": {
      "image/png": "[encoded data removed]",
      "text/plain": [
       "<Figure size 640x480 with 2 Axes>"
      ]
     },
     "metadata": {},
     "output_type": "display_data"
    }
   ],
   "source": [
    "import seaborn as sn\n",
    "sn.heatmap(data)"
   ]
  },
  {
   "cell_type": "markdown",
   "id": "a358dc81-c59b-4f34-b530-9425a8bf7379",
   "metadata": {},
   "source": [
    "Тепловая карта не очень подходит для анализа в данном случае т.к. данные не однородные, но можно сделать следующие выводы \n",
    "- Количество скачавших «Грызуна» сильно превышает число купивших платную версию\n",
    "- В недели 7, 9, 13, 15, 17, 19, 29, 31, 33 и 45 было больше всего установок и платежей\n",
    "- Без учёта выделяющихся недель число установок и платежей плавно растёт"
   ]
  },
  {
   "cell_type": "markdown",
   "id": "6d097e74-2245-49ae-b8a8-98d0b097e4dd",
   "metadata": {},
   "source": [
    "логичнее визуализировать каждый столбец отдельно"
   ]
  },
  {
   "cell_type": "code",
   "execution_count": 19,
   "id": "88f4df3a-9231-47c2-a991-f5d111b24918",
   "metadata": {},
   "outputs": [
    {
     "data": {
      "text/plain": [
       "<Axes: xlabel='week_number', ylabel='installs'>"
      ]
     },
     "execution_count": 19,
     "metadata": {},
     "output_type": "execute_result"
    },
    {
     "data": {
      "image/png": "[encoded data removed]",
      "text/plain": [
       "<Figure size 1500x700 with 1 Axes>"
      ]
     },
     "metadata": {},
     "output_type": "display_data"
    }
   ],
   "source": [
    "import matplotlib\n",
    "\n",
    "matplotlib.rcParams['figure.figsize'] = [15, 7]\n",
    "sn.barplot(x=data['week_number'], y=data['installs'])"
   ]
  },
  {
   "cell_type": "markdown",
   "id": "2e310c72-ae4d-4c8a-92a6-fb71a1c0c07f",
   "metadata": {},
   "source": [
    "Видны пики на графике на 7,9,13,15,17,19,29,31,33,45 неделе. Возможно они связаны с рекламными компаниями"
   ]
  },
  {
   "cell_type": "code",
   "execution_count": 20,
   "id": "8dc9e20f-deff-4dc6-9ae9-e8fbdfa2474e",
   "metadata": {},
   "outputs": [
    {
     "data": {
      "text/plain": [
       "<Axes: xlabel='week_number', ylabel='ad_campaign'>"
      ]
     },
     "execution_count": 20,
     "metadata": {},
     "output_type": "execute_result"
    },
    {
     "data": {
      "image/png": "[encoded data removed]",
      "text/plain": [
       "<Figure size 1500x700 with 1 Axes>"
      ]
     },
     "metadata": {},
     "output_type": "display_data"
    }
   ],
   "source": [
    "sn.barplot(x=data['week_number'], y=data['ad_campaign'])"
   ]
  },
  {
   "cell_type": "markdown",
   "id": "979b093f-77f1-489f-96f8-28f48ee0c421",
   "metadata": {},
   "source": [
    "Идеальное совпадение, знаичт рекламные компании влияют на рост установок\n",
    "Интересно, как обстоят дела с платежами"
   ]
  },
  {
   "cell_type": "code",
   "execution_count": 23,
   "id": "db6c1c16-3f60-430b-81fc-6980e52e36a7",
   "metadata": {},
   "outputs": [
    {
     "data": {
      "text/plain": [
       "<Axes: xlabel='week_number', ylabel='payments'>"
      ]
     },
     "execution_count": 23,
     "metadata": {},
     "output_type": "execute_result"
    },
    {
     "data": {
      "image/png": "[encoded data removed]",
      "text/plain": [
       "<Figure size 1500x700 with 1 Axes>"
      ]
     },
     "metadata": {},
     "output_type": "display_data"
    }
   ],
   "source": [
    "sn.barplot(x=data['week_number'], y=data['payments'])"
   ]
  },
  {
   "cell_type": "markdown",
   "id": "719c9eb2-ea70-4df1-9a7c-241b5d05c02c",
   "metadata": {},
   "source": [
    "Влияние рекламы заметно, пиков тут меньше но они совпадают по времени с проведением рекламных компаний"
   ]
  },
  {
   "cell_type": "markdown",
   "id": "c70ac570-f494-40ed-8678-1108ce2459cb",
   "metadata": {},
   "source": [
    "Посмотрим конверсию на графике по неделям"
   ]
  },
  {
   "cell_type": "code",
   "execution_count": 25,
   "id": "2000e283-2804-4f14-be5b-1db46280073b",
   "metadata": {},
   "outputs": [
    {
     "data": {
      "text/plain": [
       "<Axes: xlabel='week_number'>"
      ]
     },
     "execution_count": 25,
     "metadata": {},
     "output_type": "execute_result"
    },
    {
     "data": {
      "image/png": "[encoded data removed]",
      "text/plain": [
       "<Figure size 1500x700 with 1 Axes>"
      ]
     },
     "metadata": {},
     "output_type": "display_data"
    }
   ],
   "source": [
    "conversions = data['payments'] / data['installs']\n",
    "sn.barplot(x=data['week_number'], y=conversions)"
   ]
  },
  {
   "cell_type": "markdown",
   "id": "bf36243b-d2e2-42ce-8add-183cef0a9fd7",
   "metadata": {},
   "source": [
    "Есть провалы, но серьезного отклоненя от средней по году не видно.\n",
    "Попробуем найти рекламные установки.\n",
    "Для этого вычтем установки из пиковых недели установок  предыдущую, когда рекламной компании не было"
   ]
  },
  {
   "cell_type": "code",
   "execution_count": 27,
   "id": "05bf04fb-395e-4013-b0b5-0cfb47569f4d",
   "metadata": {},
   "outputs": [
    {
     "name": "stdout",
     "output_type": "stream",
     "text": [
      "7     14178.0\n",
      "9     14213.0\n",
      "13    17028.0\n",
      "15    12384.0\n",
      "17    19370.0\n",
      "19    13768.0\n",
      "29    11324.0\n",
      "31    13020.0\n",
      "33    19840.0\n",
      "45    15429.0\n",
      "Name: installs, dtype: float64\n"
     ]
    }
   ],
   "source": [
    "# номера интересующих недель\n",
    "campaign_weeks = [7, 9, 13, 15, 17, 19, 29, 31, 33, 45]\n",
    "\n",
    "#  разность между значениями в столбце data['installs']\n",
    "diff_installs = data['installs'].diff() \n",
    "\n",
    "# выбор только требуемых недель из всех посчитанных разностей\n",
    "installs_from_ads = diff_installs[campaign_weeks]\n",
    "\n",
    "# вывод результата\n",
    "print(installs_from_ads)"
   ]
  },
  {
   "cell_type": "markdown",
   "id": "14ea93e7-0096-4891-a42d-114aa5d6b8f5",
   "metadata": {},
   "source": [
    "Теперь оценим количество «рекламных» покупок и узнаем сколько пользователей купило грызуна благодаря рекламе"
   ]
  },
  {
   "cell_type": "code",
   "execution_count": 30,
   "id": "dffa569e-1db7-4cf2-bf26-86441b8cfc12",
   "metadata": {},
   "outputs": [
    {
     "name": "stdout",
     "output_type": "stream",
     "text": [
      "7     2409.0\n",
      "9     2060.0\n",
      "13    1395.0\n",
      "15    1495.0\n",
      "17    1262.0\n",
      "19    1192.0\n",
      "29    1870.0\n",
      "31     743.0\n",
      "33    1207.0\n",
      "45    1207.0\n",
      "Name: payments, dtype: float64\n"
     ]
    }
   ],
   "source": [
    "# посчитаем разность между соседними значениями в столбце data['payments']\n",
    "diff_payments = data['payments'].diff()\n",
    "\n",
    "# выбор только требуемых недель из всех посчитанных разностей\n",
    "payments_from_ads = diff_payments[campaign_weeks]\n",
    "\n",
    "# вывод результата\n",
    "print(payments_from_ads)"
   ]
  },
  {
   "cell_type": "markdown",
   "id": "f4593dc8-e2f2-4069-bcb4-68982261833b",
   "metadata": {},
   "source": [
    "Теперь посчитаем конверсию рекламных покупок"
   ]
  },
  {
   "cell_type": "code",
   "execution_count": 32,
   "id": "e9b0818e-6b9d-4363-b769-5d9d5be6206c",
   "metadata": {},
   "outputs": [
    {
     "name": "stdout",
     "output_type": "stream",
     "text": [
      "7     0.169911\n",
      "9     0.144938\n",
      "13    0.081924\n",
      "15    0.120720\n",
      "17    0.065152\n",
      "19    0.086578\n",
      "29    0.165136\n",
      "31    0.057066\n",
      "33    0.060837\n",
      "45    0.078229\n",
      "dtype: float64\n"
     ]
    }
   ],
   "source": [
    "conversions_from_ads = payments_from_ads/ installs_from_ads\n",
    "print(conversions_from_ads)"
   ]
  },
  {
   "cell_type": "markdown",
   "id": "1a9d4e5d-8a7c-4f53-ae00-a4fc460587f8",
   "metadata": {},
   "source": [
    "Теперь можно посмотреть сколько денег принесла рекламная компания"
   ]
  },
  {
   "cell_type": "code",
   "execution_count": 33,
   "id": "7f429559-154f-4cb6-9819-80cffbeaf3bc",
   "metadata": {},
   "outputs": [
    {
     "name": "stdout",
     "output_type": "stream",
     "text": [
      "7     101.946678\n",
      "9      86.962640\n",
      "13     49.154334\n",
      "15     72.432171\n",
      "17     39.091378\n",
      "19     51.946543\n",
      "29     99.081597\n",
      "31     34.239631\n",
      "33     36.502016\n",
      "45     46.937585\n",
      "dtype: float64\n"
     ]
    }
   ],
   "source": [
    "ads_install_average_profit = conversions_from_ads * 600\n",
    "print(ads_install_average_profit)"
   ]
  },
  {
   "cell_type": "markdown",
   "id": "2f7059d8-1842-483b-92cd-addfa6016cd3",
   "metadata": {},
   "source": [
    "Значения отклоняются от средне годового показателя в 76 руб"
   ]
  },
  {
   "cell_type": "code",
   "execution_count": 34,
   "id": "06abbf5c-0198-4f8b-974c-14601631368f",
   "metadata": {},
   "outputs": [
    {
     "data": {
      "text/plain": [
       "<Axes: >"
      ]
     },
     "execution_count": 34,
     "metadata": {},
     "output_type": "execute_result"
    },
    {
     "data": {
      "image/png": "[encoded data removed]",
      "text/plain": [
       "<Figure size 1500x700 with 1 Axes>"
      ]
     },
     "metadata": {},
     "output_type": "display_data"
    }
   ],
   "source": [
    "sn.barplot(x = campaign_weeks, y=ads_install_average_profit)"
   ]
  },
  {
   "cell_type": "markdown",
   "id": "dba7d26f-8b09-463a-b0e2-4a9d6976ea5d",
   "metadata": {},
   "source": [
    "Одна рекламная установка обходится Книжному грызуну в 60 рублей, на графике видно что только 4 из 10 рекламных компаний преодолели этот показатель"
   ]
  },
  {
   "cell_type": "markdown",
   "id": "5120fb7c-fa71-4523-8028-49e2f4089e88",
   "metadata": {},
   "source": [
    "Вывод\n",
    "=\n",
    "\n",
    "Общая среднегодовая конверсия непоказательна. Без выделения «рекламных» пользователей выходило, что все рекламные кампании «Книжного грызуна» окупаются, хотя на самом деле окупились меньше половины"
   ]
  },
  {
   "cell_type": "code",
   "execution_count": null,
   "id": "6f4e2dce-1c24-4e2a-90e9-b42a9e8a78e1",
   "metadata": {},
   "outputs": [],
   "source": []
  }
 ],
 "metadata": {
  "kernelspec": {
   "display_name": "Python 3 (ipykernel)",
   "language": "python",
   "name": "python3"
  },
  "language_info": {
   "codemirror_mode": {
    "name": "ipython",
    "version": 3
   },
   "file_extension": ".py",
   "mimetype": "text/x-python",
   "name": "python",
   "nbconvert_exporter": "python",
   "pygments_lexer": "ipython3",
   "version": "3.11.4"
  }
 },
 "nbformat": 4,
 "nbformat_minor": 5
}
