{
 "cells": [
  {
   "cell_type": "markdown",
   "id": "46d6b046-4bb6-440d-bb72-5c347b992cd3",
   "metadata": {},
   "source": [
    "Исследование для игры «Мемтрис»\n",
    "====\n",
    "\n",
    "Данные\n",
    "---\n",
    "- user_id — уникальный идентификатор пользователя    ;\n",
    "- game_id — уникальный идентификатор игр    ы;\n",
    "- round — уровень иг    ры;\n",
    "- compactor — наличие уплотнит    еля;\n",
    "- win — победа (1) или проигрыш     (0);\n",
    "- game_mode — стиль игры, hard или easy: выяснила у разработчиков, что в режиме easy игроки видят, какая фигура выпадет следующей, а в режиме hard — нет.\n",
    "\n",
    "Проблема\n",
    "---\n",
    "Игроки жалуются, что уплотнитель даёт слишком большое преимущество купившим его игрокам.\n",
    "\n",
    "\n",
    "Гипотеза\n",
    "---\n",
    "Процент побед у применяющих уплотнитель игроков выше, чем у игроков без уплотнителя."
   ]
  },
  {
   "cell_type": "code",
   "execution_count": 8,
   "id": "76fe528d-8feb-4822-bee4-e77cd87e3aea",
   "metadata": {},
   "outputs": [],
   "source": [
    "# импорт библиотек\n",
    "import pandas as pd\n",
    "import seaborn as sns\n",
    "import matplotlib.pyplot as plt"
   ]
  },
  {
   "cell_type": "code",
   "execution_count": 9,
   "id": "ab06588d-93c2-4b38-9ce8-6b55ee363da5",
   "metadata": {},
   "outputs": [
    {
     "data": {
      "text/html": [
       "<div>\n",
       "<style scoped>\n",
       "    .dataframe tbody tr th:only-of-type {\n",
       "        vertical-align: middle;\n",
       "    }\n",
       "\n",
       "    .dataframe tbody tr th {\n",
       "        vertical-align: top;\n",
       "    }\n",
       "\n",
       "    .dataframe thead th {\n",
       "        text-align: right;\n",
       "    }\n",
       "</style>\n",
       "<table border=\"1\" class=\"dataframe\">\n",
       "  <thead>\n",
       "    <tr style=\"text-align: right;\">\n",
       "      <th></th>\n",
       "      <th>user_id</th>\n",
       "      <th>game_id</th>\n",
       "      <th>round</th>\n",
       "      <th>compactor</th>\n",
       "      <th>win</th>\n",
       "      <th>game_mode</th>\n",
       "    </tr>\n",
       "  </thead>\n",
       "  <tbody>\n",
       "    <tr>\n",
       "      <th>0</th>\n",
       "      <td>3b7b1851-8fa1-43dd-9b40-76d37d085142</td>\n",
       "      <td>ec5a82a0-c106-40b7-acbf-0b90f3bf7333</td>\n",
       "      <td>2</td>\n",
       "      <td>False</td>\n",
       "      <td>0</td>\n",
       "      <td>hard</td>\n",
       "    </tr>\n",
       "    <tr>\n",
       "      <th>1</th>\n",
       "      <td>5e333a91-62d5-4c07-b017-25bdee9bd158</td>\n",
       "      <td>d9a513ee-be8f-4025-81a1-4f8c06bf652e</td>\n",
       "      <td>2</td>\n",
       "      <td>False</td>\n",
       "      <td>1</td>\n",
       "      <td>easy</td>\n",
       "    </tr>\n",
       "    <tr>\n",
       "      <th>2</th>\n",
       "      <td>00f7430f-f4aa-4bee-83f0-21ea6ac34dd6</td>\n",
       "      <td>87c83edb-9cb0-4280-9417-2763b39b44c5</td>\n",
       "      <td>3</td>\n",
       "      <td>True</td>\n",
       "      <td>1</td>\n",
       "      <td>hard</td>\n",
       "    </tr>\n",
       "    <tr>\n",
       "      <th>3</th>\n",
       "      <td>cc379bf3-2381-4ec4-81cb-87d823f94642</td>\n",
       "      <td>27fd0dba-424a-4a07-9959-0d584c2fb40f</td>\n",
       "      <td>3</td>\n",
       "      <td>False</td>\n",
       "      <td>1</td>\n",
       "      <td>hard</td>\n",
       "    </tr>\n",
       "    <tr>\n",
       "      <th>4</th>\n",
       "      <td>dbca4926-2dda-4993-b639-5485a1a3c93a</td>\n",
       "      <td>46ff0dba-0145-40e7-bd83-66618b728661</td>\n",
       "      <td>2</td>\n",
       "      <td>False</td>\n",
       "      <td>0</td>\n",
       "      <td>hard</td>\n",
       "    </tr>\n",
       "    <tr>\n",
       "      <th>...</th>\n",
       "      <td>...</td>\n",
       "      <td>...</td>\n",
       "      <td>...</td>\n",
       "      <td>...</td>\n",
       "      <td>...</td>\n",
       "      <td>...</td>\n",
       "    </tr>\n",
       "    <tr>\n",
       "      <th>475</th>\n",
       "      <td>ba1d304c-e2b4-486b-9617-cbddbe183420</td>\n",
       "      <td>5c0f134a-a077-4606-8bae-171f1072e1b0</td>\n",
       "      <td>2</td>\n",
       "      <td>False</td>\n",
       "      <td>0</td>\n",
       "      <td>hard</td>\n",
       "    </tr>\n",
       "    <tr>\n",
       "      <th>476</th>\n",
       "      <td>6889922c-909d-4a5f-9b52-236df037bc0f</td>\n",
       "      <td>e385fc6d-659a-456b-af7c-b03404175627</td>\n",
       "      <td>4</td>\n",
       "      <td>False</td>\n",
       "      <td>1</td>\n",
       "      <td>easy</td>\n",
       "    </tr>\n",
       "    <tr>\n",
       "      <th>477</th>\n",
       "      <td>2f85e0b8-0157-4bd2-a3a2-c144bfabc8b3</td>\n",
       "      <td>c8461d27-cae7-4439-8f30-82f042e751fc</td>\n",
       "      <td>3</td>\n",
       "      <td>True</td>\n",
       "      <td>1</td>\n",
       "      <td>hard</td>\n",
       "    </tr>\n",
       "    <tr>\n",
       "      <th>478</th>\n",
       "      <td>99f35a3d-e144-47a4-9940-bd792338afd5</td>\n",
       "      <td>71afffdb-cf03-434c-bfc2-ce6080e33ce8</td>\n",
       "      <td>5</td>\n",
       "      <td>False</td>\n",
       "      <td>0</td>\n",
       "      <td>hard</td>\n",
       "    </tr>\n",
       "    <tr>\n",
       "      <th>479</th>\n",
       "      <td>566ccb83-e83d-4e4e-8625-73c3222bf578</td>\n",
       "      <td>7448b9a1-369c-4bd4-a77f-4afc05bb379e</td>\n",
       "      <td>4</td>\n",
       "      <td>False</td>\n",
       "      <td>1</td>\n",
       "      <td>easy</td>\n",
       "    </tr>\n",
       "  </tbody>\n",
       "</table>\n",
       "<p>480 rows × 6 columns</p>\n",
       "</div>"
      ],
      "text/plain": [
       "                                  user_id  \\\n",
       "0    3b7b1851-8fa1-43dd-9b40-76d37d085142   \n",
       "1    5e333a91-62d5-4c07-b017-25bdee9bd158   \n",
       "2    00f7430f-f4aa-4bee-83f0-21ea6ac34dd6   \n",
       "3    cc379bf3-2381-4ec4-81cb-87d823f94642   \n",
       "4    dbca4926-2dda-4993-b639-5485a1a3c93a   \n",
       "..                                    ...   \n",
       "475  ba1d304c-e2b4-486b-9617-cbddbe183420   \n",
       "476  6889922c-909d-4a5f-9b52-236df037bc0f   \n",
       "477  2f85e0b8-0157-4bd2-a3a2-c144bfabc8b3   \n",
       "478  99f35a3d-e144-47a4-9940-bd792338afd5   \n",
       "479  566ccb83-e83d-4e4e-8625-73c3222bf578   \n",
       "\n",
       "                                  game_id  round  compactor  win game_mode  \n",
       "0    ec5a82a0-c106-40b7-acbf-0b90f3bf7333      2      False    0      hard  \n",
       "1    d9a513ee-be8f-4025-81a1-4f8c06bf652e      2      False    1      easy  \n",
       "2    87c83edb-9cb0-4280-9417-2763b39b44c5      3       True    1      hard  \n",
       "3    27fd0dba-424a-4a07-9959-0d584c2fb40f      3      False    1      hard  \n",
       "4    46ff0dba-0145-40e7-bd83-66618b728661      2      False    0      hard  \n",
       "..                                    ...    ...        ...  ...       ...  \n",
       "475  5c0f134a-a077-4606-8bae-171f1072e1b0      2      False    0      hard  \n",
       "476  e385fc6d-659a-456b-af7c-b03404175627      4      False    1      easy  \n",
       "477  c8461d27-cae7-4439-8f30-82f042e751fc      3       True    1      hard  \n",
       "478  71afffdb-cf03-434c-bfc2-ce6080e33ce8      5      False    0      hard  \n",
       "479  7448b9a1-369c-4bd4-a77f-4afc05bb379e      4      False    1      easy  \n",
       "\n",
       "[480 rows x 6 columns]"
      ]
     },
     "execution_count": 9,
     "metadata": {},
     "output_type": "execute_result"
    }
   ],
   "source": [
    "# чтение файла\n",
    "games = pd.read_csv('game_data.csv')\n",
    "games"
   ]
  },
  {
   "cell_type": "code",
   "execution_count": 10,
   "id": "9c188f7d-268a-4b33-9ae2-05e4203822d8",
   "metadata": {},
   "outputs": [
    {
     "data": {
      "image/png": "[encoded data removed]",
      "text/plain": [
       "<Figure size 640x480 with 1 Axes>"
      ]
     },
     "metadata": {},
     "output_type": "display_data"
    }
   ],
   "source": [
    "sns.countplot(x='round', data=games);"
   ]
  },
  {
   "cell_type": "code",
   "execution_count": 11,
   "id": "e0e364a0-a248-4794-9eff-f9274133ce41",
   "metadata": {},
   "outputs": [
    {
     "data": {
      "image/png": "[encoded data removed]",
      "text/plain": [
       "<Figure size 640x480 with 1 Axes>"
      ]
     },
     "metadata": {},
     "output_type": "display_data"
    }
   ],
   "source": [
    "sns.countplot(x='compactor', data=games);"
   ]
  },
  {
   "cell_type": "code",
   "execution_count": 12,
   "id": "7272828d-fcbc-4eeb-8e52-c98ece7071c7",
   "metadata": {},
   "outputs": [
    {
     "data": {
      "image/png": "[encoded data removed]",
      "text/plain": [
       "<Figure size 640x480 with 1 Axes>"
      ]
     },
     "metadata": {},
     "output_type": "display_data"
    }
   ],
   "source": [
    "sns.countplot(x='win', data=games);"
   ]
  },
  {
   "cell_type": "code",
   "execution_count": 13,
   "id": "922d15b2-764b-4d5c-9559-4e7df34daa85",
   "metadata": {},
   "outputs": [
    {
     "data": {
      "image/png": "[encoded data removed]",
      "text/plain": [
       "<Figure size 640x480 with 1 Axes>"
      ]
     },
     "metadata": {},
     "output_type": "display_data"
    }
   ],
   "source": [
    "sns.countplot(x='game_mode', data=games);"
   ]
  },
  {
   "cell_type": "code",
   "execution_count": 26,
   "id": "f9e73d72-ad9b-43ea-9f5f-ce547dab3419",
   "metadata": {},
   "outputs": [],
   "source": [
    "games_compactor_on = games[games['compactor'] == True]\n",
    "games_compactor_off = games[games['compactor'] == False]"
   ]
  },
  {
   "cell_type": "code",
   "execution_count": 28,
   "id": "813138c0-a8af-4862-b002-0ccfa9242deb",
   "metadata": {},
   "outputs": [
    {
     "data": {
      "image/png": "[encoded data removed]",
      "text/plain": [
       "<Figure size 640x480 with 1 Axes>"
      ]
     },
     "metadata": {},
     "output_type": "display_data"
    }
   ],
   "source": [
    "# Игры с уплотнителем:\n",
    "sns.countplot(x='win', data = games_compactor_on);"
   ]
  },
  {
   "cell_type": "code",
   "execution_count": 29,
   "id": "823ee1c2-4484-4da1-892d-2a0905829aaa",
   "metadata": {},
   "outputs": [
    {
     "data": {
      "image/png": "[encoded data removed]",
      "text/plain": [
       "<Figure size 640x480 with 1 Axes>"
      ]
     },
     "metadata": {},
     "output_type": "display_data"
    }
   ],
   "source": [
    "# Игры без уплотнителя:\n",
    "sns.countplot(x='win', data = games_compactor_off);"
   ]
  },
  {
   "cell_type": "code",
   "execution_count": 30,
   "id": "9e11a10f-3cd3-41c4-80a0-4eda0b581acb",
   "metadata": {},
   "outputs": [
    {
     "name": "stdout",
     "output_type": "stream",
     "text": [
      "Выигрышей с уплотнителем: 47 %\n",
      "Выигрышей без уплотнителя: 47 %\n"
     ]
    }
   ],
   "source": [
    "def get_wins_percent(data):\n",
    "    return int(round(data['win'].mean() * 100))\n",
    "\n",
    "print('Выигрышей с уплотнителем:', get_wins_percent(games_compactor_on), '%')\n",
    "print('Выигрышей без уплотнителя:', get_wins_percent(games_compactor_off), '%')"
   ]
  },
  {
   "cell_type": "markdown",
   "id": "e07da412-ddbd-4058-8872-3a82de4db9a3",
   "metadata": {},
   "source": [
    "Доля побед в играх с уплотнителем действительно больше. При этом нельзя утверждать, что наличие уплотнителя влияет на исход игры. Например, может быть так, что уплотнитель покупают более сильные игроки — у них и без уплотнителя процент побед будет больше. Или наоборот: уплотнитель покупают на начальных уровнях игры, где процент побед может быть выше сам по себе.\r\n",
    "\r\n",
    "Можно было бы выбрать определённого игрока и посмотреть, как часто этот игрок побеждает без уплотнителя и с уплотнителем. К сожалению, так сделать не выйдет: каждая игра в таблице связана с новым игроком. Это можно понять из следующей команды:"
   ]
  },
  {
   "cell_type": "code",
   "execution_count": 31,
   "id": "937ffae4-d786-445c-b0d8-6ab723dbdfee",
   "metadata": {},
   "outputs": [
    {
     "data": {
      "text/plain": [
       "60"
      ]
     },
     "execution_count": 31,
     "metadata": {},
     "output_type": "execute_result"
    }
   ],
   "source": [
    "len(set(games['user_id']))"
   ]
  },
  {
   "cell_type": "markdown",
   "id": "c26cb50b-05fe-4454-ba21-c18f2947b5da",
   "metadata": {},
   "source": [
    "Число уникальных игроков совпадает с количеством строк в датасете.\r\n",
    "\r\n",
    "Что можно сделать?\r\n",
    "\r\n",
    "Рассмотреть различные срезы: по раундам, по game_mode. Проверить, действительно ли уплотнитель положительно влияет на каждый из срезов. Если это так, то гипотеза о том, что уплотнитель становится причиной побед, набирает некоторую силу. Хотя сказать наверняка, что нет никакой скрытой причины, которая приводит и к победе, и к покупке уплотнителя, мы по-прежнему не сможем. Например, в игре может быть какой-нибудь баг, который приводит к автоматической покупке уплотнителя в момент победы."
   ]
  },
  {
   "cell_type": "markdown",
   "id": "2dafe02c-866f-41d3-b016-c407a80e354f",
   "metadata": {},
   "source": [
    "Влияние уплотнителя в разных раундах\n",
    "====================================="
   ]
  },
  {
   "cell_type": "code",
   "execution_count": 32,
   "id": "c4ba66e5-04eb-478a-988d-2983cb3208c4",
   "metadata": {},
   "outputs": [
    {
     "name": "stdout",
     "output_type": "stream",
     "text": [
      "Round 1\n",
      "Выигрышей с уплотнителем: 100 %\n",
      "Выигрышей без уплотнителя: 67 %\n",
      "\n",
      "Round 2\n",
      "Выигрышей с уплотнителем: 0 %\n",
      "Выигрышей без уплотнителя: 54 %\n",
      "\n",
      "Round 3\n",
      "Выигрышей с уплотнителем: 67 %\n",
      "Выигрышей без уплотнителя: 25 %\n",
      "\n",
      "Round 4\n",
      "Выигрышей с уплотнителем: 50 %\n",
      "Выигрышей без уплотнителя: 67 %\n",
      "\n",
      "Round 5\n",
      "Выигрышей с уплотнителем: 0 %\n",
      "Выигрышей без уплотнителя: 20 %\n",
      "\n"
     ]
    }
   ],
   "source": [
    "for game_round in [1, 2, 3, 4, 5]:\n",
    "    print('Round', game_round)\n",
    "    print('Выигрышей с уплотнителем:', \n",
    "          get_wins_percent(games_compactor_on[games_compactor_on['round'] == game_round]),\n",
    "          '%')\n",
    "    print('Выигрышей без уплотнителя:',\n",
    "          get_wins_percent(games_compactor_off[games_compactor_off['round'] == game_round]),\n",
    "          '%')\n",
    "    print()"
   ]
  },
  {
   "cell_type": "markdown",
   "id": "ce36575c-5787-493a-bd71-8591d42fb9f1",
   "metadata": {},
   "source": [
    "На первом, втором и пятом уровнях наличие уплотнителя связано с бóльшим количеством поражений, в то время как для на третьем и четвёртом — с бóльшим количеством побед."
   ]
  },
  {
   "cell_type": "markdown",
   "id": "139e16e5-4995-4ffb-96a0-f4fa44708473",
   "metadata": {},
   "source": [
    "Влияние уплотнителя в разных режимах игры\n",
    "-----------------------------------------"
   ]
  },
  {
   "cell_type": "code",
   "execution_count": 33,
   "id": "cc79d987-1288-4736-ada4-e0b37121ad87",
   "metadata": {},
   "outputs": [
    {
     "name": "stdout",
     "output_type": "stream",
     "text": [
      "Mode hard\n",
      "Доля выигрышей с уплотнителем: 38 %\n",
      "Доля выигрышей без уплотнителя: 35 %\n",
      "\n",
      "Mode easy\n",
      "Доля выигрышей с уплотнителем: 57 %\n",
      "Доля выигрышей без уплотнителя: 59 %\n",
      "\n"
     ]
    }
   ],
   "source": [
    "for game_mode in ['hard', 'easy']:\n",
    "    print('Mode', game_mode)\n",
    "    print('Доля выигрышей с уплотнителем:',\n",
    "          get_wins_percent(games_compactor_on[games_compactor_on['game_mode'] == game_mode]),\n",
    "          '%')\n",
    "    print('Доля выигрышей без уплотнителя:',\n",
    "          get_wins_percent(games_compactor_off[games_compactor_off['game_mode'] == game_mode]),\n",
    "          '%')\n",
    "    print()"
   ]
  },
  {
   "cell_type": "markdown",
   "id": "70ee9f62-2ea7-415c-a2fd-c7d88db0013b",
   "metadata": {},
   "source": [
    "В режиме hard наличие уплотнителя связано с очень большой долей побед.\n",
    "\n",
    "А вот в режиме easy уплотнитель даже несколько ухудшает результат."
   ]
  },
  {
   "cell_type": "markdown",
   "id": "5515ed32-392b-4beb-8974-ccc75b851f38",
   "metadata": {},
   "source": [
    "Выводы\n",
    "======"
   ]
  },
  {
   "cell_type": "markdown",
   "id": "83cea1b3-7397-4603-b889-bc66485e713d",
   "metadata": {},
   "source": [
    "Наличие уплотнителя в среднем связано с бóльшим количеством побед: 63% против 55%.\n",
    "\n",
    "При этом для некоторых уровней или режимов игры его влияние неоднозначно: на 1-м, 2-м и 5-м уровнях применяющие уплотнитель игроки одерживают даже меньше побед, чем игроки без уплотнителя. Сильнее всего влияние уплотнителя заметно в играх режима hard: там уплотнитель приводит к 73% победам против 54% при игре без уплотнителя.\n",
    "\n",
    "Такая значительная разница говорит о том, что жалобы игроков обоснованы.\n",
    "\n",
    "Уплотнитель заметно влияет на баланс игры, но только в режиме hard или на 3-м и 4-м уровнях игры."
   ]
  },
  {
   "cell_type": "code",
   "execution_count": null,
   "id": "6bb325e4-2e47-4a01-9a30-9f65bbddcb5f",
   "metadata": {},
   "outputs": [],
   "source": []
  }
 ],
 "metadata": {
  "kernelspec": {
   "display_name": "Python 3 (ipykernel)",
   "language": "python",
   "name": "python3"
  },
  "language_info": {
   "codemirror_mode": {
    "name": "ipython",
    "version": 3
   },
   "file_extension": ".py",
   "mimetype": "text/x-python",
   "name": "python",
   "nbconvert_exporter": "python",
   "pygments_lexer": "ipython3",
   "version": "3.11.4"
  }
 },
 "nbformat": 4,
 "nbformat_minor": 5
}
